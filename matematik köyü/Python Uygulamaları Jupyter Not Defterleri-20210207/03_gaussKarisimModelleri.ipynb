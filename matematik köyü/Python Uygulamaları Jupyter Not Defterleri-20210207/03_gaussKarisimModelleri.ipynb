{
 "cells": [
  {
   "cell_type": "markdown",
   "metadata": {},
   "source": [
    "# Gauss Karışım Modelleri, (GKM) (Gaussian Mixture Models, GMM)\n",
    "Hazırlayan: Marc Deisenroth\n",
    "Çeviren: Utku Karaca\n",
    "\n",
    "- Gauss karışım modelleri ile yoğunluk modellemesi\n",
    "\n",
    "Gauss karışım modellerinde verinin yoğunluğunu \n",
    "$$\n",
    "p(\\boldsymbol x) = \\sum_{k=1}^K \\pi_k \\mathcal{N}(\\boldsymbol x|\\boldsymbol \\mu_k, \\boldsymbol \\Sigma_k)\\,,\\quad \\pi_k \\geq 0\\,,\\quad \\sum_{k=1}^K\\pi_k = 1\n",
    "$$\n",
    "ile gösteririz. \n",
    "\n",
    "$\\pi_k$: Karışım ağırlıkları.\n",
    "\n",
    "Bu uygulamada GKM'leri daha iyi anlamaya çalışacağız. GKM modellerinin Beklenti Maksimizasyonu (BM) algoritması ile eğitimini kodlayacağız. \n",
    "\n",
    "Gerekli paketler:"
   ]
  },
  {
   "cell_type": "code",
   "execution_count": null,
   "metadata": {},
   "outputs": [],
   "source": [
    "# nümerik işlemler kütüphanesi\n",
    "import numpy as np\n",
    "# görselleştirme kütüphanesi\n",
    "import matplotlib as mpl\n",
    "import matplotlib.pyplot as plt\n",
    "import matplotlib.cm as cm\n",
    "from matplotlib import rc\n",
    "# veri üretimi\n",
    "from scipy.stats import multivariate_normal\n",
    "# yakınsama koşulu\n",
    "import scipy.linalg as la\n",
    "\n",
    "%matplotlib inline\n",
    "# aynı sonuçların elde edilmesi\n",
    "np.random.seed(42)"
   ]
  },
  {
   "cell_type": "markdown",
   "metadata": {},
   "source": [
    "### GKM tanımlanması\n",
    "Gerçek GKM'nin tanımlanması ve veri üretilmesi."
   ]
  },
  {
   "cell_type": "code",
   "execution_count": null,
   "metadata": {},
   "outputs": [],
   "source": [
    "# 3 bileşenli GKM parametrelerinin oluşturulması\n",
    "\n",
    "# ortalamalar\n",
    "o = np.zeros((3,2))\n",
    "o[0] = np.array([1.2, 0.4])\n",
    "o[1] = np.array([-4.4, 1.0])\n",
    "o[2] = np.array([4.1, -0.3])\n",
    "\n",
    "# kovaryanslar\n",
    "k = np.zeros((3,2,2))\n",
    "k[0] = np.array([[0.8, -0.4], [-0.4, 1.0]])\n",
    "k[1] = np.array([[1.2, -0.8], [-0.8, 1.0]])\n",
    "k[2] = np.array([[1.2, 0.6], [0.6, 3.0]])\n",
    "\n",
    "# karışım ağırlıkları\n",
    "w = np.array([0.3, 0.2, 0.5])"
   ]
  },
  {
   "cell_type": "markdown",
   "metadata": {},
   "source": [
    "Veri yaratımı:"
   ]
  },
  {
   "cell_type": "code",
   "execution_count": null,
   "metadata": {},
   "outputs": [],
   "source": [
    "N_bilesen = 200 # her bir bileşenden gelecek veri sayısı\n",
    "N = N_bilesen*3 # toplam veri sayısı\n",
    "x = []\n",
    "y = []\n",
    "for i in range(3):\n",
    "    x_tmp, y_tmp = np.random.multivariate_normal(o[i], \n",
    "                                                 k[i], \n",
    "                                                 N_bilesen).T \n",
    "    x = np.hstack([x, x_tmp])\n",
    "    y = np.hstack([y, y_tmp])\n",
    "\n",
    "veri = np.vstack([x, y])"
   ]
  },
  {
   "cell_type": "markdown",
   "metadata": {},
   "source": [
    "Verinin görselleştirilmesi:"
   ]
  },
  {
   "cell_type": "code",
   "execution_count": null,
   "metadata": {},
   "outputs": [],
   "source": [
    "X, Y = np.meshgrid(np.linspace(-10,10,100), \n",
    "                   np.linspace(-10,10,100))\n",
    "pos = np.dstack((X, Y))\n",
    "\n",
    "# veri kümesinin görselleştirilmesi\n",
    "plt.figure()\n",
    "plt.title(\"Karışım bileşenleri\")\n",
    "plt.plot(x, y, 'ko', alpha=0.3)\n",
    "plt.xlabel(\"$x_1$\")\n",
    "plt.ylabel(\"$x_2$\")\n",
    "\n",
    "# dağılımların ortalamalarının görsele eklenmesi\n",
    "plt.plot(o[:,0], o[:,1], 'or')\n",
    "\n",
    "# olasılık dağılım fonksiyon konturlarının grafiğe eklenmesi\n",
    "for j in range(3):\n",
    "    mvn = multivariate_normal(o[j,:].ravel(), k[j,:,:])\n",
    "    xx = mvn.pdf(pos)\n",
    "    plt.contour(X, Y, xx,  alpha = 1.0, zorder=10)\n",
    "     \n",
    "# GKM görselleştirilmesi\n",
    "plt.figure()\n",
    "plt.title(\"GKM\")\n",
    "plt.plot(x, y, 'ko', alpha=0.3)\n",
    "plt.xlabel(\"$x_1$\")\n",
    "plt.ylabel(\"$x_2$\")\n",
    "\n",
    "# ağırlıklarla birlikte GKM oluşturulması\n",
    "gkm = 0\n",
    "for j in range(3):\n",
    "    mix_comp = multivariate_normal(o[j,:].ravel(), k[j,:,:])\n",
    "    gkm += w[j]*mix_comp.pdf(pos)\n",
    "    \n",
    "plt.contour(X, Y, gkm,  alpha = 1.0, zorder=10);"
   ]
  },
  {
   "cell_type": "markdown",
   "metadata": {},
   "source": [
    "## BM Algoritması ile GKM eğitimi\n",
    "### BM Parametrelerinin yaratılması"
   ]
  },
  {
   "cell_type": "code",
   "execution_count": null,
   "metadata": {},
   "outputs": [],
   "source": [
    "K = 3 # küme sayısı\n",
    "\n",
    "ortalamalar = np.zeros((K,2))\n",
    "kovaryanslar = np.zeros((K,2,2))\n",
    "\n",
    "for k in range(K):\n",
    "    ortalamalar[k] = np.random.normal(size=(2,))\n",
    "    kovaryanslar[k] = np.eye(2)\n",
    "\n",
    "agirliklar = np.ones((K,1))/K\n",
    "print(\"Başlangıç ortalama vektörleri (bir vektör/satır):\\n\" + str(ortalamalar))"
   ]
  },
  {
   "cell_type": "code",
   "execution_count": null,
   "metadata": {},
   "outputs": [],
   "source": [
    "NLL = [] # GKM'nin negatif logaritmik olabilirliği\n",
    "gkm_nll = 0\n",
    "\n",
    "for k in range(K):\n",
    "    gkm_nll += agirliklar[k]*multivariate_normal.pdf(mean=ortalamalar[k,:], \n",
    "                                                     cov=kovaryanslar[k,:,:], \n",
    "                                                     x=veri.T)\n",
    "NLL += [-np.sum(np.log(gkm_nll))]\n",
    "print('Negatif olabilirlik:',NLL)\n",
    "\n",
    "plt.figure()\n",
    "plt.plot(x, y, 'ko', alpha=0.3)\n",
    "plt.plot(ortalamalar[:,0], ortalamalar[:,1], 'oy', markersize=25)\n",
    "\n",
    "for k in range(K):\n",
    "    rv = multivariate_normal(ortalamalar[k,:], kovaryanslar[k,:,:])\n",
    "    plt.contour(X, Y, rv.pdf(pos), alpha = 1.0, zorder=10)\n",
    "    \n",
    "plt.xlabel(\"$x_1$\");\n",
    "plt.ylabel(\"$x_2$\");"
   ]
  },
  {
   "cell_type": "markdown",
   "metadata": {},
   "source": [
    "BM algoritmasının B-adımında model parametrelerine $\\pi_k, \\boldsymbol\\mu_k, \\boldsymbol\\Sigma_k$ göre güncellenecek olan değerlerin tanımlanması: \n",
    "\\begin{align*}\n",
    "    r_{nk} &:= \\frac{\\pi_k\\mathcal N(\\boldsymbol\n",
    "          x_n|\\boldsymbol\\mu_k,\\boldsymbol\\Sigma_k)}{\\sum_{j=1}^K\\pi_j\\mathcal N(\\boldsymbol\n",
    "          x_n|\\boldsymbol \\mu_j,\\boldsymbol\\Sigma_j)} &(11.17)\n",
    "\\end{align*}\n",
    "B-adımında güncellenen değerler ile model parametrelerinin güncellenmesi (M-adımı)\n",
    "\\begin{align*}\n",
    "\\boldsymbol\\mu_k^\\text{new} &= \\frac{1}{N_k}\\sum_{n = 1}^Nr_{nk}\\boldsymbol x_n\\,, & (11.20)\\\\\n",
    "   \\boldsymbol\\Sigma_k^\\text{new}&= \\frac{1}{N_k}\\sum_{n=1}^Nr_{nk}(\\boldsymbol x_n-\\boldsymbol\\mu_k)(\\boldsymbol x_n-\\boldsymbol\\mu_k)^\\top\\,,& (11.30)\\\\\n",
    "   \\pi_k^\\text{new} &= \\frac{N_k}{N}, & (11.42)\n",
    "\\end{align*}\n",
    "\n",
    "$N_k$ tanımı:\n",
    "$$\n",
    "N_k := \\sum_{n=1}^N r_{nk}\n",
    "$$\n",
    "\n",
    "## BM Algoritması"
   ]
  },
  {
   "cell_type": "code",
   "execution_count": null,
   "metadata": {},
   "outputs": [],
   "source": [
    "r = np.zeros((K,N))\n",
    "\n",
    "for em_iter in range(100):    \n",
    "    # B-adımı: r'lerin güncellenmesi\n",
    "    for k in range(K):\n",
    "        r[k] = agirliklar[k]*multivariate_normal.pdf(mean=ortalamalar[k,:],\n",
    "                                                     cov=kovaryanslar[k,:,:], x=veri.T)  \n",
    "    r = r/np.sum(r, axis=0) \n",
    "    # M-adımı\n",
    "    N_k = np.sum(r, axis=1)\n",
    "    for k in range(K): \n",
    "        # ortalamaların güncellenmesi\n",
    "        ortalamalar[k] = np.sum(r[k]*veri, axis=1)/N_k[k]\n",
    "        # kovaryansların güncellenmesi\n",
    "        diff = veri - ortalamalar[k:k+1].T\n",
    "        _tmp = np.sqrt(r[k:k+1])*diff\n",
    "        kovaryanslar[k] = np.inner(_tmp, _tmp)/N_k[k]\n",
    "    # ağırlıklar\n",
    "    agirliklar = N_k/N \n",
    "    \n",
    "    # log-olabilirlik (log-likelihood)\n",
    "    gkm_nll = 0\n",
    "    for k in range(K):\n",
    "        gkm_nll += agirliklar[k]*multivariate_normal.pdf(mean=ortalamalar[k,:].ravel(),\n",
    "                                                         cov=kovaryanslar[k,:,:], x=veri.T)\n",
    "    NLL += [-np.sum(np.log(gkm_nll))]\n",
    "    \n",
    "    plt.figure() \n",
    "    plt.plot(x, y, 'ko', alpha=0.3)\n",
    "    plt.plot(ortalamalar[:,0], ortalamalar[:,1], 'oy', markersize=25)\n",
    "    for k in range(K):\n",
    "        rv = multivariate_normal(ortalamalar[k,:], kovaryanslar[k])\n",
    "        plt.contour(X, Y, rv.pdf(pos), alpha = 1.0, zorder=10)\n",
    "        \n",
    "    plt.xlabel(\"$x_1$\")\n",
    "    plt.ylabel(\"$x_2$\")\n",
    "    plt.text(x=3.5, y=8, s=\"EM iterasyon \"+str(em_iter+1))\n",
    "    \n",
    "    if la.norm(NLL[em_iter+1]-NLL[em_iter]) < 1e-6:\n",
    "        print(str(em_iter+1)+\". iterasyondan sonra yakınsadı.\")\n",
    "        break"
   ]
  },
  {
   "cell_type": "code",
   "execution_count": null,
   "metadata": {},
   "outputs": [],
   "source": [
    "# son karışım modelinin görseli\n",
    "plt.figure() \n",
    "gkm = 0\n",
    "for k in range(3):\n",
    "    bilesen_karisik = multivariate_normal(ortalamalar[k,:].ravel(), \n",
    "                                          kovaryanslar[k,:,:])\n",
    "    gkm += agirliklar[k]*bilesen_karisik.pdf(pos)\n",
    "\n",
    "plt.plot(x, y, 'ko', alpha=0.3)\n",
    "plt.contour(X, Y, gkm,  alpha = 1.0, zorder=10)    \n",
    "plt.xlim([-8,8]);\n",
    "plt.ylim([-6,6]);\n",
    "\n",
    "print(ortalamalar)\n",
    "print(o)"
   ]
  },
  {
   "cell_type": "code",
   "execution_count": null,
   "metadata": {},
   "outputs": [],
   "source": [
    "plt.figure()\n",
    "plt.semilogy(np.linspace(1,len(NLL), len(NLL)), NLL)\n",
    "plt.xlabel(\"BM iterasyon\");\n",
    "plt.ylabel(\"Negatif Log-Olabilirlik (Negative log-likelihood)\");\n",
    "\n",
    "idx = [0, 1, 9, em_iter+1]\n",
    "\n",
    "for i in idx:\n",
    "    plt.plot(i+1, NLL[i], 'or')"
   ]
  },
  {
   "cell_type": "code",
   "execution_count": null,
   "metadata": {},
   "outputs": [],
   "source": []
  }
 ],
 "metadata": {
  "kernelspec": {
   "display_name": "Python 3",
   "language": "python",
   "name": "python3"
  },
  "language_info": {
   "codemirror_mode": {
    "name": "ipython",
    "version": 3
   },
   "file_extension": ".py",
   "mimetype": "text/x-python",
   "name": "python",
   "nbconvert_exporter": "python",
   "pygments_lexer": "ipython3",
   "version": "3.7.8"
  }
 },
 "nbformat": 4,
 "nbformat_minor": 4
}
