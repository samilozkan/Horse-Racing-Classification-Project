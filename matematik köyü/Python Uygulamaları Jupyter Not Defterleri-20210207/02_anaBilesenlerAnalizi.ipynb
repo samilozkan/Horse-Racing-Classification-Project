{
 "cells": [
  {
   "cell_type": "markdown",
   "metadata": {},
   "source": [
    "# Ana Bileşenler Analizi, ABA (Principal Component Analysis, PCA)\n",
    "Hazırlayan: Marc Deisenroth ve Yicheng Luo\n",
    "Çeviren: Utku Karaca\n",
    "\n",
    "ABA algoritmasını izdüşüm perspektifini kullanarak uygulayacağız. Öncelikle algoritmayı kodlayacağız, ardından MNIST rakam veri kümesine uygulayacağız.\n",
    "\n",
    "Gerekli paketler:"
   ]
  },
  {
   "cell_type": "code",
   "execution_count": null,
   "metadata": {},
   "outputs": [],
   "source": [
    "# nümerik işlemler kütüphanesi\n",
    "import numpy as np\n",
    "# görsel kütüphanesi\n",
    "import matplotlib as mpl\n",
    "mpl.use('Agg')\n",
    "# görsel şekil ayarı\n",
    "import matplotlib.pyplot as plt\n",
    "plt.style.use('fivethirtyeight')\n",
    "from ipywidgets import interact\n",
    "# veri kümesi\n",
    "from sklearn.datasets import fetch_openml\n",
    "images, labels = fetch_openml('mnist_784', version=1, return_X_y = True)\n",
    "# görsel gösterim ayarı\n",
    "%matplotlib inline"
   ]
  },
  {
   "cell_type": "markdown",
   "metadata": {},
   "source": [
    "Gözlem sayısı:"
   ]
  },
  {
   "cell_type": "code",
   "execution_count": null,
   "metadata": {},
   "outputs": [],
   "source": [
    "print(\"Gözlem sayısı:\",len(images))"
   ]
  },
  {
   "cell_type": "markdown",
   "metadata": {},
   "source": [
    "Veri seti:"
   ]
  },
  {
   "cell_type": "code",
   "execution_count": null,
   "metadata": {},
   "outputs": [],
   "source": [
    "print(images.head())\n",
    "labels"
   ]
  },
  {
   "cell_type": "markdown",
   "metadata": {},
   "source": [
    "Örnek görsel:"
   ]
  },
  {
   "cell_type": "code",
   "execution_count": null,
   "metadata": {},
   "outputs": [],
   "source": [
    "plt.figure(figsize=(4,4))\n",
    "plt.imshow(np.array(images.iloc[0]).reshape(28,28), cmap='gray')\n",
    "print('Rakam:', labels[0])"
   ]
  },
  {
   "cell_type": "markdown",
   "metadata": {},
   "source": [
    "# ABA\n",
    "ABA kodlamasına geçmeden önce veri seti üzerinde bazı işlemler yapmalıyız. \n",
    "1. Piksel değerlerini 0 ve 1 aralığına çevirmek\n",
    "2. Her bir görselden ortalamayı ($\\boldsymbol \\mu$) çıkarmak\n",
    "3. Her bir görselin her bir boyutunu standart sapmaya ($\\sigma$) göre ölçeklemek ($\\frac{1}{\\sigma}$).\n",
    "\n",
    "Bu adımlar bütün görsellerin ortalamasının sıfır ve varyansının bir olmasını sağlayacak, standarlaştıracak."
   ]
  },
  {
   "cell_type": "code",
   "execution_count": null,
   "metadata": {},
   "outputs": [],
   "source": [
    "def standartlastir(X):\n",
    "    \"\"\" Verilen veri kümesi standartlaştırır\n",
    "    Parametreler:\n",
    "        X: ndarray, veri kümesi\n",
    "    \n",
    "    Dön:\n",
    "        (Xbar, ortalama, std): Xbar standantlaştırılmış veri kümesi.\n",
    "        Ortalaması 0, standart sapması 1.\n",
    "    \n",
    "    Not:\n",
    "        Standart sapmanın 0 olacağı yerlerde sorun çıkmaması için 0\n",
    "        0 olan yerlerin standart sapma değerini 1 yapacağız.\n",
    "    \"\"\"\n",
    "    ortalama = np.mean(X, axis=0)\n",
    "    std = np.std(X, axis=0)\n",
    "    std_degistirilmis = std.copy()\n",
    "    std_degistirilmis[std==0] = 1.\n",
    "    Xbar = ((X-ortalama)/std_degistirilmis)\n",
    "    return Xbar, ortalama, std\n",
    "\n",
    "def oz(S):\n",
    "    \"\"\" Kovaryans matrisi S için özdeğer ve özvektörleri hesaplar. \n",
    "    \n",
    "    Parametreler:\n",
    "        S: ndarray, kovaryans matrisi\n",
    "    \n",
    "    Dön:\n",
    "        (ozdegerler, ozvektorler): ndarray\n",
    "        \n",
    "    Not:\n",
    "        özdeğerler ve özvektörler özdeğerlerin azaldığı sırayla\n",
    "        sıralanmalıdır.\n",
    "    \"\"\"\n",
    "    ozdegerler, ozvektorler = np.linalg.eig(S)\n",
    "    k = np.argsort(ozdegerler)[::-1] #[<start>:<stop>:<step>] ozdegerler'i küçükten büyüğe sırayıp, ters çevirme\n",
    "    return ozdegerler[k], ozvektorler[:,k]\n",
    "\n",
    "def izdusum_matrisi(B):\n",
    "    \"\"\" `B` tarafından kapsanan uzay üzerine izdüşüm matrisini\n",
    "    hesaplar\n",
    "    \n",
    "    (Compute the projection matrix onto the space spanned by `B`)\n",
    "    Parametreler:\n",
    "        B: ndarray, (D, M), altuzay tabanları\n",
    "    \n",
    "    Dön:\n",
    "        P: izdüşüm matrisi, B*(B.T*B)^-1*B.T, B*B.T\n",
    "    \"\"\"\n",
    "    return (B.dot(np.linalg.inv(B.T.dot(B))).dot(B.T)) #(10.34), alternatif, return B.dot(B.T)\n",
    "\n",
    "def ABA(X, bilesen_sayisi):\n",
    "    \"\"\"\n",
    "    Parametreler:\n",
    "        X: standartlaştırılmış, ndarray, (N, D), D veri kümesinin boyutu,\n",
    "           N  veri kümesindeki veri sayısı.\n",
    "        bilesen_sayisi: kullanılacak ana bileşen sayısı\n",
    "    Dön:\n",
    "        X_yeni: bilesen_sayisi kadar bileşenle oluşturulan \n",
    "        yeni X matrisi\n",
    "    \"\"\"\n",
    "    # öncelikle standartlaştırma yapmalıyız\n",
    "    # sonra veri kovaryans matrisi S'i hesaplamalıyız\n",
    "    S = 1.0/len(X) * np.dot(X.T, X)\n",
    "\n",
    "    # S için özdeğerler ve özvektörleri bulma\n",
    "    ozdegerler, ozvektorler = oz(S)\n",
    "    # en büyük özdeğerlerin yerlerini bulup \n",
    "    # özvektörleri sıralamak için kullanacağız.\n",
    "    \n",
    "    # bileşen sayısı kadarını seçmeliyiz\n",
    "    ozdegerler, ozvektorler = ozdegerler[:bilesen_sayisi], ozvektorler[:, :bilesen_sayisi]\n",
    "\n",
    "    # Gerçek veri kümesinin boyutunu indirgeme\n",
    "    B = np.real(ozvektorler)\n",
    "    # Z = X.T.dot(W)\n",
    "    # görselleri düşük boyut temsilleriyle tekrar oluşturma\n",
    "    X_yeni = (izdusum_matrisi(B).dot(X.T)) #(10.32)\n",
    "    return X_yeni.T"
   ]
  },
  {
   "cell_type": "code",
   "execution_count": null,
   "metadata": {},
   "outputs": [],
   "source": [
    "## Veri yaratımı ve önişleme adımları\n",
    "veri_sayisi = 1000\n",
    "X = (np.array(images)[:veri_sayisi]) / 255.\n",
    "Xbar, mu, std = standartlastir(X)\n",
    "\n",
    "from sklearn.decomposition import PCA as SKPCA\n",
    "for bilesen_sayisi in range(1, 20):\n",
    "    # scikit-learn kütüphanesinin ABA kodlamasıyla kendimizinkini karşılaştıralım\n",
    "    pca = SKPCA(n_components=bilesen_sayisi, svd_solver='full')\n",
    "    sklearn_yeni = pca.inverse_transform(pca.fit_transform(Xbar))\n",
    "    yeni = ABA(Xbar, bilesen_sayisi)\n",
    "    np.testing.assert_almost_equal(yeni, sklearn_yeni)\n",
    "    print(np.square(yeni - sklearn_yeni).sum())"
   ]
  },
  {
   "cell_type": "markdown",
   "metadata": {},
   "source": [
    "Soru:\n",
    "> Ortalama Karesel Hatanın (OKH) 100'den az olması için kaç tane bileşene ihtiyacımız vardır?"
   ]
  },
  {
   "cell_type": "code",
   "execution_count": null,
   "metadata": {},
   "outputs": [],
   "source": [
    "def okh(kestirim, gercek):\n",
    "    \"\"\"Ortalama karesel hata (OKH) hesaplar\"\"\"\n",
    "    return np.square(kestirim - gercek).sum(axis=1).mean()"
   ]
  },
  {
   "cell_type": "code",
   "execution_count": null,
   "metadata": {},
   "outputs": [],
   "source": [
    "kayıp = []\n",
    "yeniler = []\n",
    "\n",
    "# farklı sayıda ana bileşenleri dener ve OKH değerlerini hesaplar\n",
    "for bilesen_sayisi in range(1, 100):\n",
    "    yeni = ABA(Xbar, bilesen_sayisi)\n",
    "    hata = okh(yeni, Xbar)\n",
    "    yeniler.append(yeni)\n",
    "    kayıp.append((bilesen_sayisi, hata))\n",
    "\n",
    "yeniler = np.asarray(yeniler)\n",
    "yeniler = yeniler * std + mu # yeniden yaratılan görsel üzerindeki \n",
    "                             # standartlaştırma işlemini geri alır\n",
    "kayıp = np.asarray(kayıp)\n",
    "\n",
    "import pandas as pd\n",
    "# ana bileşen sayıları ve OKH değerlerini gösteren tablo oluşturulması\n",
    "pd.DataFrame(kayıp).head()\n",
    "\n",
    "# görsel olarak inceleme\n",
    "fig, ax = plt.subplots()\n",
    "ax.plot(kayıp[:,0], kayıp[:,1]);\n",
    "ax.axhline(100, linestyle='--', color='r', linewidth=2)\n",
    "ax.xaxis.set_ticks(np.arange(1, 100, 5));\n",
    "ax.set(xlabel='bilesen_sayisi', ylabel='OKH', title='OKH - ana bileşen sayısı');"
   ]
  },
  {
   "cell_type": "markdown",
   "metadata": {},
   "source": [
    "Fakat sayılar bize her şeyi anlatmazlar. OKH değerindeki bu düşüş ne anlama geliyor?\n",
    "\n",
    "Bir alttaki kod parçacığında en solda gerçek görsel gösteriliyor. Sağa doğru gittikçe görseller farklı sayıda ana bileşenler kullanılarak tekrar oluşturuluyor."
   ]
  },
  {
   "cell_type": "code",
   "execution_count": null,
   "metadata": {},
   "outputs": [],
   "source": [
    "@interact(image_idx=(0, 999))\n",
    "def bilesen_yenileri_goster(image_idx):\n",
    "    fig, ax = plt.subplots(figsize=(20., 20.))\n",
    "    gercek = X[image_idx]\n",
    "    # gerçek görsel ile tekrar oluşturulan görseller yanyana ekleniyor\n",
    "    x = np.concatenate([gercek[np.newaxis, :], yeniler[:, image_idx]])\n",
    "    ax.imshow(np.hstack(x.reshape(-1, 28, 28)[np.arange(10)]),\n",
    "              cmap='gray');\n",
    "    ax.axvline(28, color='orange', linewidth=2)"
   ]
  },
  {
   "cell_type": "markdown",
   "metadata": {},
   "source": [
    "Diğer rakamların tekrar oluşturulan görselleri:"
   ]
  },
  {
   "cell_type": "code",
   "execution_count": null,
   "metadata": {
    "scrolled": true
   },
   "outputs": [],
   "source": [
    "@interact(i=(0, 10))\n",
    "def aba_rakam_goster(i=1):\n",
    "    \"\"\" i'nci rakamı ve tekrar yaratılmış halini gösterir\"\"\"\n",
    "    plt.figure(figsize=(4,4))\n",
    "    gercek_ornek = X[i].reshape(28,28)\n",
    "    yeni_ornek = (yeni[i, :] * std + mu).reshape(28, 28)\n",
    "    plt.imshow(np.hstack([gercek_ornek, yeni_ornek]), cmap='gray')\n",
    "    plt.show()"
   ]
  },
  {
   "cell_type": "code",
   "execution_count": null,
   "metadata": {},
   "outputs": [],
   "source": []
  }
 ],
 "metadata": {
  "kernelspec": {
   "display_name": "Python 3",
   "language": "python",
   "name": "python3"
  },
  "language_info": {
   "codemirror_mode": {
    "name": "ipython",
    "version": 3
   },
   "file_extension": ".py",
   "mimetype": "text/x-python",
   "name": "python",
   "nbconvert_exporter": "python",
   "pygments_lexer": "ipython3",
   "version": "3.7.8"
  }
 },
 "nbformat": 4,
 "nbformat_minor": 4
}
