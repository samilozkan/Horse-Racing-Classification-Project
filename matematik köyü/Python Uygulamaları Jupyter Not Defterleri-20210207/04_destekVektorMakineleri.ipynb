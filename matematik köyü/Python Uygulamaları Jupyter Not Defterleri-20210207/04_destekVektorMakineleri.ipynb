{
 "cells": [
  {
   "cell_type": "markdown",
   "metadata": {},
   "source": [
    "# Destek Vektör Makineleri, DVM (Support Vector Machines, SVM)\n",
    "Hazırlayan: Utku Karaca\n",
    "\n",
    "- Sınıflandırma problemleri.\n",
    "    - İkili\n",
    "    - Çoklu\n",
    "\n",
    "- İkili sınıflandırma: $\\{+1, -1\\}$\n",
    "$$f: \\mathbb{R}^D \\rightarrow \\{+1, -1\\}$$\n",
    "\n",
    "- Güdümlü öğrenme (Supervised Learning)\n",
    "- Örneğin:\n",
    "<table><tr>\n",
    "<td> <img src=\"svm.png\" alt=\"Veri kümesi\" style=\"width: 250px;\"/> </td>\n",
    "<td> <img src=\"svm2.png\" alt=\"Muhtemel Hiperdüzlem\" style=\"width: 250px;\"/> </td>\n",
    "</tr></table>\n",
    "\n",
    "- Ayırıcı hiperdüzlem (Seperating Hyperplane)\n",
    "- Eğitim sırasında amaç öyle bir hiperdüzlem yaratmak ki\n",
    "    - $y_n = +1$ ise $$\\langle\\mathbf{w}, x_n\\rangle + b \\geq 0$$\n",
    "    - $y_n = -1$ ise $$\\langle\\mathbf{w}, x_n\\rangle + b < 0$$\n",
    "- İki sınıf arasındaki uzaklığı (margin) en çoklayan hiperdüzlem\n",
    "\n",
    "\n",
    "Gerekli kütüphaneler"
   ]
  },
  {
   "cell_type": "code",
   "execution_count": null,
   "metadata": {},
   "outputs": [],
   "source": [
    "# Veri kümesi\n",
    "from sklearn.datasets import load_breast_cancer\n",
    "# Model\n",
    "from sklearn.svm import SVC\n",
    "# Model değerlendirilmesi\n",
    "from sklearn.metrics import plot_confusion_matrix, classification_report\n",
    "# Eğitim ve test kümelerinin oluşturulması\n",
    "from sklearn.model_selection import train_test_split\n",
    "# Görselleştirme\n",
    "import matplotlib.pyplot as plt"
   ]
  },
  {
   "cell_type": "markdown",
   "metadata": {},
   "source": [
    "Verinin yüklenmesi\n",
    "- Meme kanseri veri kümesi\n",
    "- Öznitelikler: Meme kitleleri görüntüleri\n",
    "- Kaynak: https://archive.ics.uci.edu/ml/datasets/breast+cancer+wisconsin+(diagnostic)"
   ]
  },
  {
   "cell_type": "code",
   "execution_count": null,
   "metadata": {},
   "outputs": [],
   "source": [
    "veri = load_breast_cancer()\n",
    "X = veri.data\n",
    "y = veri.target\n",
    "\n",
    "print(\"Öznitelik matris boyutları:\",X.shape)\n",
    "print(\"Etiket sayısı:\",y.shape)\n",
    "\n",
    "from collections import Counter\n",
    "print(\"İyi huylu:\",Counter(y)[0])\n",
    "print(\"Kötü huylu:\",Counter(y)[1])"
   ]
  },
  {
   "cell_type": "markdown",
   "metadata": {},
   "source": [
    "Örnek veri"
   ]
  },
  {
   "cell_type": "code",
   "execution_count": null,
   "metadata": {},
   "outputs": [],
   "source": [
    "print('İlk veri öznitelikleri:\\n',X[0])\n",
    "print('İlk veri etiketi:', y[0])"
   ]
  },
  {
   "cell_type": "markdown",
   "metadata": {},
   "source": [
    "Veri kümesini eğitim ve test olarak ikiye ayırma"
   ]
  },
  {
   "cell_type": "code",
   "execution_count": null,
   "metadata": {},
   "outputs": [],
   "source": [
    "# Egitim, test verisi yaratma\n",
    "X_egitim, X_test, y_egitim, y_test = train_test_split(X, y,\n",
    "                                                      test_size = 0.2,\n",
    "                                                      random_state = 3,\n",
    "                                                      stratify = y)\n",
    "\n",
    "X_egitim.shape\n",
    "print(Counter(y_egitim))"
   ]
  },
  {
   "cell_type": "markdown",
   "metadata": {},
   "source": [
    "Model oluşturulması ve eğitilmesi"
   ]
  },
  {
   "cell_type": "code",
   "execution_count": null,
   "metadata": {},
   "outputs": [],
   "source": [
    "# Model olusturma\n",
    "dvm = SVC(C = 1, kernel = 'linear')\n",
    "\n",
    "# Modelin uydurulmasi\n",
    "dvm.fit(X_egitim, y_egitim)"
   ]
  },
  {
   "cell_type": "markdown",
   "metadata": {},
   "source": [
    "Test verilerinin kestirimi"
   ]
  },
  {
   "cell_type": "code",
   "execution_count": null,
   "metadata": {},
   "outputs": [],
   "source": [
    "tahmin_test = dvm.predict(X_test)\n",
    "\n",
    "print(tahmin_test)"
   ]
  },
  {
   "cell_type": "markdown",
   "metadata": {},
   "source": [
    "Sınıflandırma raporu"
   ]
  },
  {
   "cell_type": "code",
   "execution_count": null,
   "metadata": {},
   "outputs": [],
   "source": [
    "print('dvm için sınıflandırma raporu:\\n', \n",
    "      classification_report(y_test, tahmin_test))\n",
    "\n",
    "gorsel = plot_confusion_matrix(dvm, \n",
    "                               X_test,\n",
    "                               y_test)\n",
    "\n",
    "# precision: kesinlik\n",
    "# recall: doğru bulma oranı"
   ]
  },
  {
   "cell_type": "markdown",
   "metadata": {},
   "source": [
    "Hata matrisi"
   ]
  },
  {
   "cell_type": "code",
   "execution_count": null,
   "metadata": {},
   "outputs": [],
   "source": [
    "gorsel.figure_.suptitle(\"Hata matrisi\")\n",
    "\n",
    "print('Hata matrisi:\\n', gorsel.confusion_matrix)"
   ]
  },
  {
   "cell_type": "markdown",
   "metadata": {},
   "source": [
    "Farklı çekirdek ile yeni bir model"
   ]
  },
  {
   "cell_type": "code",
   "execution_count": null,
   "metadata": {},
   "outputs": [],
   "source": [
    "# Model olusturma\n",
    "dvm = SVC(C = 1, kernel = 'poly')\n",
    "\n",
    "# Modelin uydurulmasi\n",
    "dvm.fit(X_egitim, y_egitim)"
   ]
  },
  {
   "cell_type": "markdown",
   "metadata": {},
   "source": [
    "Test verilerinin kestirimi"
   ]
  },
  {
   "cell_type": "code",
   "execution_count": null,
   "metadata": {},
   "outputs": [],
   "source": [
    "tahmin_test = dvm.predict(X_test)"
   ]
  },
  {
   "cell_type": "markdown",
   "metadata": {},
   "source": [
    "Hata matrisi"
   ]
  },
  {
   "cell_type": "code",
   "execution_count": null,
   "metadata": {},
   "outputs": [],
   "source": [
    "print('dvm için sınıflandırma raporu:\\n', \n",
    "      classification_report(y_test, tahmin_test))\n",
    "\n",
    "gorsel = plot_confusion_matrix(dvm, \n",
    "                               X_test,\n",
    "                               y_test)\n",
    "\n",
    "# precision: kesinlik\n",
    "# recall: doğru bulma oranı"
   ]
  },
  {
   "cell_type": "code",
   "execution_count": null,
   "metadata": {},
   "outputs": [],
   "source": []
  }
 ],
 "metadata": {
  "kernelspec": {
   "display_name": "Python 3",
   "language": "python",
   "name": "python3"
  },
  "language_info": {
   "codemirror_mode": {
    "name": "ipython",
    "version": 3
   },
   "file_extension": ".py",
   "mimetype": "text/x-python",
   "name": "python",
   "nbconvert_exporter": "python",
   "pygments_lexer": "ipython3",
   "version": "3.7.8"
  }
 },
 "nbformat": 4,
 "nbformat_minor": 4
}
